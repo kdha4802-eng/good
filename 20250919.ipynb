{
  "nbformat": 4,
  "nbformat_minor": 0,
  "metadata": {
    "colab": {
      "provenance": []
    },
    "kernelspec": {
      "name": "python3",
      "display_name": "Python 3"
    },
    "language_info": {
      "name": "python"
    }
  },
  "cells": [
    {
      "cell_type": "code",
      "execution_count": 5,
      "metadata": {
        "colab": {
          "base_uri": "https://localhost:8080/"
        },
        "id": "Bv0uNaclYse2",
        "outputId": "6fa5b592-bbad-4095-d9dd-7a617b017b50"
      },
      "outputs": [
        {
          "output_type": "stream",
          "name": "stdout",
          "text": [
            "홍길동 18\n"
          ]
        }
      ],
      "source": [
        "#name 변수에 '홍길동'을 대입하고 age 변수에 18을 대입한 후 출력하는 프로그램.\n",
        "\n",
        "name = \"홍길동\"\n",
        "age = 18\n",
        "print(name, age)"
      ]
    },
    {
      "cell_type": "code",
      "source": [
        "c = 9\n",
        "b = c\n",
        "a = b\n",
        "print(a, b, c)"
      ],
      "metadata": {
        "colab": {
          "base_uri": "https://localhost:8080/"
        },
        "id": "7TGJhidGeJBC",
        "outputId": "982c4d94-7eee-4d62-cfb4-76112453b067"
      },
      "execution_count": 8,
      "outputs": [
        {
          "output_type": "stream",
          "name": "stdout",
          "text": [
            "9 9 9\n"
          ]
        }
      ]
    },
    {
      "cell_type": "code",
      "source": [
        "b += 10\n",
        "print(b)"
      ],
      "metadata": {
        "colab": {
          "base_uri": "https://localhost:8080/"
        },
        "id": "UQI_4yQwfmhH",
        "outputId": "c227343a-e93d-4817-e5e2-398461ed89af"
      },
      "execution_count": 21,
      "outputs": [
        {
          "output_type": "stream",
          "name": "stdout",
          "text": [
            "29\n"
          ]
        }
      ]
    },
    {
      "cell_type": "code",
      "source": [
        "a = 7\n",
        "b = 11\n",
        "c = a\n",
        "a = b\n",
        "b = c\n",
        "print(a,b)"
      ],
      "metadata": {
        "colab": {
          "base_uri": "https://localhost:8080/"
        },
        "id": "KTA1R57Xg66f",
        "outputId": "4bfc0ea6-220b-49ba-ca74-0823cec47827"
      },
      "execution_count": 37,
      "outputs": [
        {
          "output_type": "stream",
          "name": "stdout",
          "text": [
            "11 7\n"
          ]
        },
        {
          "output_type": "execute_result",
          "data": {
            "text/plain": [
              "NoneType"
            ]
          },
          "metadata": {},
          "execution_count": 37
        }
      ]
    },
    {
      "cell_type": "code",
      "source": [],
      "metadata": {
        "id": "N33yJDl7lAg6"
      },
      "execution_count": null,
      "outputs": []
    },
    {
      "cell_type": "code",
      "metadata": {
        "colab": {
          "base_uri": "https://localhost:8080/"
        },
        "id": "22c00764",
        "outputId": "9165492b-f58a-4ffe-eecb-53135e5b1b7b"
      },
      "source": [
        "# 3의 배수 중 처음 네 개를 구하는 프로그램\n",
        "\n",
        "# multiple_of_3 변수를 0으로 초기화합니다. 이 변수는 3의 배수를 저장할 것입니다.\n",
        "multiple_of_3 = 0\n",
        "# count 변수를 0으로 초기화합니다. 이 변수는 찾은 3의 배수의 개수를 셀 것입니다.\n",
        "count = 0\n",
        "\n",
        "# count가 4보다 작은 동안 (즉, 3의 배수 네 개를 찾을 때까지) 반복합니다.\n",
        "while count < 5:\n",
        "  # multiple_of_3에 3을 더합니다. 이렇게 하면 다음 3의 배수를 얻게 됩니다.\n",
        "  multiple_of_3 += 3\n",
        "  # 현재 찾은 3의 배수를 출력합니다.\n",
        "  print(multiple_of_3)\n",
        "  # count를 1 증가시킵니다. 다음 반복에서는 다른 3의 배수를 찾을 것입니다.\n",
        "  count += 1"
      ],
      "execution_count": 35,
      "outputs": [
        {
          "output_type": "stream",
          "name": "stdout",
          "text": [
            "3\n",
            "6\n",
            "9\n",
            "12\n",
            "15\n"
          ]
        }
      ]
    },
    {
      "cell_type": "code",
      "source": [
        "a = 20\n",
        "b = 0o34\n",
        "c = 0xA1\n",
        "d = 0b1110\n",
        "\n",
        "print (a, b, c, d)"
      ],
      "metadata": {
        "colab": {
          "base_uri": "https://localhost:8080/"
        },
        "id": "VHUv--eXmNU5",
        "outputId": "41bef868-0ccd-4f93-8002-915f6af7afed"
      },
      "execution_count": 41,
      "outputs": [
        {
          "output_type": "stream",
          "name": "stdout",
          "text": [
            "20 28 161 14\n"
          ]
        }
      ]
    },
    {
      "cell_type": "code",
      "source": [
        "a, b = 3.14, 1.23e5\n",
        "print(a, b)"
      ],
      "metadata": {
        "colab": {
          "base_uri": "https://localhost:8080/"
        },
        "id": "uwmQx4Ann83n",
        "outputId": "ee48d18d-00eb-40b0-8377-8e1fd5da7f2c"
      },
      "execution_count": 46,
      "outputs": [
        {
          "output_type": "stream",
          "name": "stdout",
          "text": [
            "3.14 123000.0\n"
          ]
        }
      ]
    },
    {
      "cell_type": "code",
      "source": [
        "a = 10>20"
      ],
      "metadata": {
        "id": "T95S54zltFyS"
      },
      "execution_count": 48,
      "outputs": []
    },
    {
      "cell_type": "code",
      "source": [
        "a = 'Python'\n",
        "b = 'hi'\n",
        "\n",
        "print(b + a)"
      ],
      "metadata": {
        "colab": {
          "base_uri": "https://localhost:8080/"
        },
        "id": "ARAh7qOQtfHh",
        "outputId": "6fd811ea-6498-4f7c-e243-2025e1a5b1f4"
      },
      "execution_count": 57,
      "outputs": [
        {
          "output_type": "stream",
          "name": "stdout",
          "text": [
            "hiPython\n"
          ]
        }
      ]
    },
    {
      "cell_type": "code",
      "source": [
        "name = input('이름: ')\n",
        "age = input('나이: ')\n",
        "print(name, age)"
      ],
      "metadata": {
        "colab": {
          "base_uri": "https://localhost:8080/"
        },
        "id": "f36aHDQCuX4w",
        "outputId": "11e19fdf-9ecc-432e-e1ff-4a362adff691"
      },
      "execution_count": 59,
      "outputs": [
        {
          "output_type": "stream",
          "name": "stdout",
          "text": [
            "이름: 김동하\n",
            "나이: 22\n",
            "김동하 22\n"
          ]
        }
      ]
    },
    {
      "cell_type": "code",
      "source": [
        "a = int(input('첫 번째 숫자: '))\n",
        "b = int(input('두 번째 숫자: '))\n",
        "\n",
        "print(a-b)"
      ],
      "metadata": {
        "colab": {
          "base_uri": "https://localhost:8080/"
        },
        "id": "GgO-syxwvMOn",
        "outputId": "aec46b4b-1562-46f6-8ffe-bf02e94b3d38"
      },
      "execution_count": 71,
      "outputs": [
        {
          "output_type": "stream",
          "name": "stdout",
          "text": [
            "첫 번째 숫자: 9\n",
            "두 번째 숫자: 2\n",
            "7\n"
          ]
        }
      ]
    },
    {
      "cell_type": "code",
      "source": [
        "c = 12\n",
        "\n",
        "print(a)\n",
        "print(b,end='')\n",
        "print(c)"
      ],
      "metadata": {
        "colab": {
          "base_uri": "https://localhost:8080/"
        },
        "id": "gr5k5cjgxp29",
        "outputId": "0cd7785b-2642-4580-a414-1f511eaf7b52"
      },
      "execution_count": 77,
      "outputs": [
        {
          "output_type": "stream",
          "name": "stdout",
          "text": [
            "9\n",
            "212\n"
          ]
        }
      ]
    },
    {
      "cell_type": "code",
      "metadata": {
        "colab": {
          "base_uri": "https://localhost:8080/"
        },
        "id": "c35e56ec",
        "outputId": "03eb6a27-b97b-42be-b430-4f4bdf28e476"
      },
      "source": [
        "minutes = float(input(\"분 단위 시간을 입력하세요: \"))\n",
        "\n",
        "seconds = minutes * 60\n",
        "\n",
        "print(f\"{minutes}분은 {seconds}초입니다.\")"
      ],
      "execution_count": 81,
      "outputs": [
        {
          "output_type": "stream",
          "name": "stdout",
          "text": [
            "분 단위 시간을 입력하세요: 56\n",
            "56.0분은 3360.0초입니다.\n"
          ]
        }
      ]
    },
    {
      "cell_type": "code",
      "source": [
        "a = int(input('첫 번째 숫자: '))\n",
        "b = int(input('두 번째 숫자: '))\n",
        "c = int(input('세 번째 숫자: '))\n",
        "d = a+b+c\n",
        "print(f\"세 수의 평균은{d/3}입니다\")"
      ],
      "metadata": {
        "colab": {
          "base_uri": "https://localhost:8080/"
        },
        "id": "q_jwlSf51Vjo",
        "outputId": "50364fda-66d3-4f7a-f25f-a5b7852f6126"
      },
      "execution_count": 85,
      "outputs": [
        {
          "output_type": "stream",
          "name": "stdout",
          "text": [
            "첫 번째 숫자: 90\n",
            "두 번째 숫자: 80\n",
            "세 번째 숫자: 70\n",
            "세 수의 평균은80.0입니다\n"
          ]
        }
      ]
    },
    {
      "cell_type": "code",
      "source": [
        "r = float(input('원의 반지름: '))\n",
        "S = r*r*3.14\n",
        "\n",
        "print(f\"입력한 반지름은 {r} 이고 해당 원의 넓이는 {S}입니다\")"
      ],
      "metadata": {
        "colab": {
          "base_uri": "https://localhost:8080/"
        },
        "id": "3WFozF3X2agg",
        "outputId": "72227193-2622-43c6-99a7-b1a85c31f88c"
      },
      "execution_count": 87,
      "outputs": [
        {
          "output_type": "stream",
          "name": "stdout",
          "text": [
            "원의 반지름: 4.5\n",
            "입력한 반지름은 4.5 이고 해당 원의 넓이는 63.585입니다\n"
          ]
        }
      ]
    }
  ]
}