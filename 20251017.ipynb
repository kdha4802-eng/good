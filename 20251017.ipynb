{
  "nbformat": 4,
  "nbformat_minor": 0,
  "metadata": {
    "colab": {
      "provenance": []
    },
    "kernelspec": {
      "name": "python3",
      "display_name": "Python 3"
    },
    "language_info": {
      "name": "python"
    }
  },
  "cells": [
    {
      "cell_type": "code",
      "source": [
        "email = \"user@example.com\"\n",
        "username, domain = email.split(\"@\")\n",
        "print(f\"사용자명: {username}, 도메인: {domain}\")"
      ],
      "metadata": {
        "colab": {
          "base_uri": "https://localhost:8080/"
        },
        "id": "KCFELNqo0n18",
        "outputId": "ba23f348-9f33-4490-c9ce-e9cef0cfdc09"
      },
      "execution_count": 20,
      "outputs": [
        {
          "output_type": "stream",
          "name": "stdout",
          "text": [
            "사용자명: user, 도메인: example.com\n"
          ]
        }
      ]
    },
    {
      "cell_type": "code",
      "source": [
        "csv_data = \"김철수,30,서울,개발자\"\n",
        "data_list = csv_data.split(\",\")\n",
        "print(f\"분리된 데이터: {data_list}\")"
      ],
      "metadata": {
        "colab": {
          "base_uri": "https://localhost:8080/"
        },
        "id": "ipzPh6TS53ie",
        "outputId": "0301afcb-d4b2-4c93-8fe0-b1c0c20dfce4"
      },
      "execution_count": 21,
      "outputs": [
        {
          "output_type": "stream",
          "name": "stdout",
          "text": [
            "분리된 데이터: ['김철수', '30', '서울', '개발자']\n"
          ]
        }
      ]
    },
    {
      "cell_type": "code",
      "source": [
        "folders = [\"home\", \"user\", \"documents\", \"project\"]\n",
        "path = \"/\".join(folders)\n",
        "print(f\"경로: {path}\")"
      ],
      "metadata": {
        "colab": {
          "base_uri": "https://localhost:8080/"
        },
        "id": "dYV0e_gg6LIV",
        "outputId": "2f7d8e9c-2510-468b-f7f3-3eb7a0e50600"
      },
      "execution_count": 22,
      "outputs": [
        {
          "output_type": "stream",
          "name": "stdout",
          "text": [
            "경로: home/user/documents/project\n"
          ]
        }
      ]
    },
    {
      "cell_type": "code",
      "source": [
        "words = [\"Python\", \"is\", \"awesome\"]\n",
        "sentence = \" \".join(words)\n",
        "print(f\"문장: {sentence}\")"
      ],
      "metadata": {
        "colab": {
          "base_uri": "https://localhost:8080/"
        },
        "id": "txSQAmEN6hvG",
        "outputId": "7e2ad368-562e-4df2-8eef-2df23f06b162"
      },
      "execution_count": 25,
      "outputs": [
        {
          "output_type": "stream",
          "name": "stdout",
          "text": [
            "문장: Python is awesome\n"
          ]
        }
      ]
    },
    {
      "cell_type": "code",
      "source": [
        "multiples_of_3 = [x for x in range(1, 21) if x % 3 == 0]\n",
        "print(f\"3의 배수: {multiples_of_3}\")"
      ],
      "metadata": {
        "colab": {
          "base_uri": "https://localhost:8080/"
        },
        "id": "fTMnsrUj6vSU",
        "outputId": "786a2129-4a33-4a2c-cb62-97fb0161c9d5"
      },
      "execution_count": 27,
      "outputs": [
        {
          "output_type": "stream",
          "name": "stdout",
          "text": [
            "3의 배수: [3, 6, 9, 12, 15, 18]\n"
          ]
        }
      ]
    },
    {
      "cell_type": "code",
      "source": [
        "fruits = [\"apple\", \"banana\", \"cherry\"]\n",
        "upper_fruits = [fruit.upper() for fruit in fruits]\n",
        "print(f\"대문자 과일: {upper_fruits}\")\n"
      ],
      "metadata": {
        "colab": {
          "base_uri": "https://localhost:8080/"
        },
        "id": "pHhxg1ZS8GjU",
        "outputId": "59279d2d-8b6b-4c82-de28-020dbf08aa6c"
      },
      "execution_count": 28,
      "outputs": [
        {
          "output_type": "stream",
          "name": "stdout",
          "text": [
            "대문자 과일: ['APPLE', 'BANANA', 'CHERRY']\n"
          ]
        }
      ]
    },
    {
      "cell_type": "code",
      "source": [
        "words = [\"Python\", \"is\", \"powerful\"]\n",
        "word_lengths = [len(word) for word in words]\n",
        "print(f\"단어 길이: {word_lengths}\")"
      ],
      "metadata": {
        "colab": {
          "base_uri": "https://localhost:8080/"
        },
        "id": "WuqNnnzB-0S5",
        "outputId": "82655ba2-2482-4865-82b8-b5ec0aaa91ee"
      },
      "execution_count": 29,
      "outputs": [
        {
          "output_type": "stream",
          "name": "stdout",
          "text": [
            "단어 길이: [6, 2, 8]\n"
          ]
        }
      ]
    },
    {
      "cell_type": "code",
      "source": [
        "scores = [95, 87, 92, 88]\n",
        "print(\"성적 순위:\")\n",
        "for rank, score in enumerate(scores, start=1):\n",
        "   print(f\" {rank}등: {score}점\")"
      ],
      "metadata": {
        "colab": {
          "base_uri": "https://localhost:8080/"
        },
        "id": "ROR2m5tG-40w",
        "outputId": "3b3f8a0d-d96a-4bf7-bfb9-190809efcaad"
      },
      "execution_count": 31,
      "outputs": [
        {
          "output_type": "stream",
          "name": "stdout",
          "text": [
            "성적 순위:\n",
            " 1등: 95점\n",
            " 2등: 87점\n",
            " 3등: 92점\n",
            " 4등: 88점\n"
          ]
        }
      ]
    },
    {
      "cell_type": "code",
      "source": [
        "students = [\"철수\", \"영희\", \"민수\"]\n",
        "scores = [85, 92, 78]\n",
        "grades = [\"B\", \"A\", \"C\"]\n",
        "print(\"\\n학생 성적표:\")\n",
        "for name, score, grade in zip(students, scores, grades):\n",
        "      print(f\" {name}: {score}점 ({grade}학점)\")"
      ],
      "metadata": {
        "colab": {
          "base_uri": "https://localhost:8080/"
        },
        "id": "h7sZa2Un--_4",
        "outputId": "f0117092-7a2b-4d0d-e457-1a922b079909"
      },
      "execution_count": 32,
      "outputs": [
        {
          "output_type": "stream",
          "name": "stdout",
          "text": [
            "\n",
            "학생 성적표:\n",
            " 철수: 85점 (B학점)\n",
            " 영희: 92점 (A학점)\n",
            " 민수: 78점 (C학점)\n"
          ]
        }
      ]
    },
    {
      "cell_type": "code",
      "source": [
        "keys = [\"name\", \"age\", \"city\"]\n",
        "values = [\"홍길동\", 25, \"부산\"]\n",
        "person_dict = dict(zip(keys, values))\n",
        "print(f\"\\n딕셔너리: {person_dict}\")"
      ],
      "metadata": {
        "colab": {
          "base_uri": "https://localhost:8080/"
        },
        "id": "A2U-w65z_SE4",
        "outputId": "43b7dbb1-0282-443c-f37e-94fd821f6ba3"
      },
      "execution_count": 33,
      "outputs": [
        {
          "output_type": "stream",
          "name": "stdout",
          "text": [
            "\n",
            "딕셔너리: {'name': '홍길동', 'age': 25, 'city': '부산'}\n"
          ]
        }
      ]
    },
    {
      "cell_type": "code",
      "source": [
        "celsius = [0, 10, 20, 30, 40]\n",
        "fahrenheit = list(map(lambda c: c * 9/5 + 32, celsius))\n",
        "print(f\"섭씨: {celsius}\")\n",
        "print(f\"화씨: {fahrenheit}\")"
      ],
      "metadata": {
        "colab": {
          "base_uri": "https://localhost:8080/"
        },
        "id": "-3wk2daH_aLw",
        "outputId": "37b8235b-1a75-495f-b2b9-f8d2c8fc4992"
      },
      "execution_count": 35,
      "outputs": [
        {
          "output_type": "stream",
          "name": "stdout",
          "text": [
            "섭씨: [0, 10, 20, 30, 40]\n",
            "화씨: [32.0, 50.0, 68.0, 86.0, 104.0]\n"
          ]
        }
      ]
    },
    {
      "cell_type": "code",
      "source": [
        "numbers = [-5, 3, -1, 8, 0, -3, 7]\n",
        "positive = list(filter(lambda x:x > 0, numbers))\n",
        "print(f\"전체 숫자: {numbers}\")\n",
        "print(f\"양수만: {positive}\")"
      ],
      "metadata": {
        "colab": {
          "base_uri": "https://localhost:8080/"
        },
        "id": "tGz7CguSA70G",
        "outputId": "6496780b-29e3-409b-93a3-b23a09d1dfd7"
      },
      "execution_count": 36,
      "outputs": [
        {
          "output_type": "stream",
          "name": "stdout",
          "text": [
            "전체 숫자: [-5, 3, -1, 8, 0, -3, 7]\n",
            "양수만: [3, 8, 7]\n"
          ]
        }
      ]
    },
    {
      "cell_type": "code",
      "source": [],
      "metadata": {
        "id": "whHP33F5Conm"
      },
      "execution_count": null,
      "outputs": []
    }
  ]
}